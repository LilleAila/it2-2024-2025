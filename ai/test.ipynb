{
 "cells": [
  {
   "cell_type": "code",
   "execution_count": null,
   "metadata": {},
   "outputs": [],
   "source": [
    "import pandas as pd\n",
    "\n",
    "# Oppgåve:\n",
    "# 1. Last ned ei CSV-fil som inneheld data om noko du er interessert i (t.d. sport, musikk, vêr, etc.).\n",
    "# 2. Opne CSV-fila i Python ved hjelp av pandas-biblioteket.\n",
    "# 3. Print ut dei første 5 radene av datasettet.\n",
    "# 4. Print ut informasjon om datasettet ved hjelp av .info() metoden.\n",
    "# 5. Print ut statistikk om datasettet ved hjelp av .describe() metoden.\n",
    "\n",
    "\n",
    "# Last inn CSV-fila\n",
    "filsti = 'din_fil.csv'  # Erstatt 'din_fil.csv' med filstien til di CSV-fil\n",
    "data = pd.read_csv(filsti)\n",
    "\n",
    "# Print ut dei første 5 radene\n",
    "print(\"Dei første 5 radene av datasettet:\")\n",
    "print(data.head())\n",
    "\n",
    "# Print ut informasjon om datasettet\n",
    "print(\"\\nInformasjon om datasettet:\")\n",
    "print(data.info())\n",
    "\n",
    "# Print ut statistikk om datasettet\n",
    "print(\"\\nStatistikk om datasettet:\")\n",
    "print(data.describe())"
   ]
  }
 ],
 "metadata": {
  "language_info": {
   "name": "python"
  }
 },
 "nbformat": 4,
 "nbformat_minor": 2
}
